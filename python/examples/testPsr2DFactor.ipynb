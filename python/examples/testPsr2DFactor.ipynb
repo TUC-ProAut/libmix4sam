{
 "cells": [
  {
   "attachments": {},
   "cell_type": "markdown",
   "metadata": {},
   "source": [
    "# Robust 2D point-set registration\n",
    "This is a notebook with a toy example to show a solution for the point-set registration problem using robust factors."
   ]
  },
  {
   "cell_type": "code",
   "execution_count": 2,
   "metadata": {},
   "outputs": [],
   "source": [
    "import gtsam\n",
    "import libmix4sam\n",
    "import numpy as np"
   ]
  },
  {
   "attachments": {},
   "cell_type": "markdown",
   "metadata": {},
   "source": [
    "Construct the example points. First, we create four *reference* points (fixed frame). Then, we use a `Pose2` class to define a transformation, which we then use to create our *current* point set by transforming the reference points."
   ]
  },
  {
   "cell_type": "code",
   "execution_count": 3,
   "metadata": {},
   "outputs": [
    {
     "name": "stdout",
     "output_type": "stream",
     "text": [
      "============ Transformation ==============\n",
      " (0.25, -0.25, 0.18)\n"
     ]
    }
   ],
   "source": [
    "initialEstimate = gtsam.Values()\n",
    "initialEstimate.insert(1, gtsam.Pose2(0,0,0))\n",
    "\n",
    "# Define reference points\n",
    "fixed = []\n",
    "fixed.append(gtsam.Point2(10,1))\n",
    "fixed.append(gtsam.Point2(20,-1))\n",
    "fixed.append(gtsam.Point2(30,10))\n",
    "fixed.append(gtsam.Point2(30,-10))\n",
    "\n",
    "# Define a ground truth transformation and transform the previous targets into the current frame.\n",
    "T = gtsam.Pose2(0.25,-0.25, 0.18)\n",
    "T.print(\"============ Transformation ==============\\n\")\n",
    "current = []\n",
    "for f in fixed:\n",
    "    current.append(T.inverse().transformFrom(f))\n",
    "    #print(f\"Original Point: {np.array2string(f)}\")\n",
    "    #print(f\"Transformed Point: {np.array2string(current[-1], precision=2)}\")"
   ]
  },
  {
   "attachments": {},
   "cell_type": "markdown",
   "metadata": {},
   "source": [
    "Convert the reference points into a GMM."
   ]
  },
  {
   "cell_type": "code",
   "execution_count": 5,
   "metadata": {},
   "outputs": [],
   "source": [
    "refPdf = libmix4sam.Mixture()\n",
    "refNoise = gtsam.noiseModel.Diagonal.Sigmas(np.array([0.2, 0.3]))\n",
    "for lmk in fixed:\n",
    "    refPdf.add(libmix4sam.MixComponent(refNoise, 1.0/len(fixed),lmk))"
   ]
  },
  {
   "attachments": {},
   "cell_type": "markdown",
   "metadata": {},
   "source": [
    "Use the GMM to instantiate a robust noise model (here we use MaxSumMix) and\n",
    "add each point/target of the current point set to the factor graph with the mixture distribution of the fixed set as noise model."
   ]
  },
  {
   "cell_type": "code",
   "execution_count": 6,
   "metadata": {},
   "outputs": [],
   "source": [
    "refNoiseModel = libmix4sam.noiseModelNew.MaxSumMix.Create(refPdf)\n",
    "currNoise = gtsam.noiseModel.Diagonal.Sigmas(np.array([0.2, 0.3]))\n",
    "graph = gtsam.NonlinearFactorGraph()\n",
    "for lmk in current:\n",
    "    graph.add(libmix4sam.Psr2DPriorFactor(1,lmk,gtsam.Point2(0,0),refNoiseModel,currNoise))\n",
    "\n",
    "#graph.print(\"================= GRAPH ==================\\n\")"
   ]
  },
  {
   "attachments": {},
   "cell_type": "markdown",
   "metadata": {},
   "source": [
    "Define the optimizer and optimize."
   ]
  },
  {
   "cell_type": "code",
   "execution_count": 7,
   "metadata": {},
   "outputs": [
    {
     "name": "stdout",
     "output_type": "stream",
     "text": [
      "Initial error: 239.48, values: 1\n",
      "iter      cost      cost_change    lambda  success iter_time\n",
      "   0  1.359478e+01    2.26e+02    1.00e-05     1    2.80e-04\n",
      "   1  1.055623e+01    3.04e+00    1.00e-06     1    8.06e-05\n",
      "   2  1.055623e+01    1.90e-08    1.00e-07     1    7.38e-05\n"
     ]
    }
   ],
   "source": [
    "optimizerParameters = gtsam.LevenbergMarquardtParams()\n",
    "#SILENT = 0, SUMMARY, TERMINATION, LAMBDA, TRYLAMBDA, TRYCONFIG, DAMPED, TRYDELTA\n",
    "optimizerParameters.setVerbosityLM(\"SUMMARY\")\n",
    "optimizer = gtsam.LevenbergMarquardtOptimizer(graph, initialEstimate, optimizerParameters)\n",
    "\n",
    "result = optimizer.optimizeSafely();"
   ]
  },
  {
   "cell_type": "code",
   "execution_count": 8,
   "metadata": {},
   "outputs": [
    {
     "name": "stdout",
     "output_type": "stream",
     "text": [
      "================= RESULT =================\n",
      "\n",
      "Values with 1 values:\n",
      "Value 1: (gtsam::Pose2)\n",
      "(0.25, -0.25, 0.18)\n",
      "\n",
      "=========== GROUND TRUTH WAS =============\n",
      " (0.25, -0.25, 0.18)\n"
     ]
    }
   ],
   "source": [
    "result.print(\"================= RESULT =================\\n\")\n",
    "T.print(     \"=========== GROUND TRUTH WAS =============\\n\")"
   ]
  }
 ],
 "metadata": {
  "kernelspec": {
   "display_name": "libmix4sam",
   "language": "python",
   "name": "python3"
  },
  "language_info": {
   "codemirror_mode": {
    "name": "ipython",
    "version": 3
   },
   "file_extension": ".py",
   "mimetype": "text/x-python",
   "name": "python",
   "nbconvert_exporter": "python",
   "pygments_lexer": "ipython3",
   "version": "3.10.9"
  },
  "orig_nbformat": 4,
  "vscode": {
   "interpreter": {
    "hash": "3ca19723f1adf41e65388e6f3a2ab0b8e61504a6510376b4cb3a737a54aa8c9d"
   }
  }
 },
 "nbformat": 4,
 "nbformat_minor": 2
}
